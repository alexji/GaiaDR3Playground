{
 "cells": [
  {
   "cell_type": "code",
   "execution_count": 1,
   "id": "68a2eec4",
   "metadata": {},
   "outputs": [],
   "source": [
    "import numpy as np\n",
    "import healpy as hp\n",
    "from astropy.table import Table\n",
    "import matplotlib.pyplot as plt\n",
    "from astropy.coordinates import SkyCoord, Galactic"
   ]
  },
  {
   "cell_type": "markdown",
   "id": "84db4873",
   "metadata": {},
   "source": [
    "Message from Josh:\n",
    "\n",
    "Ok, so by trial and error, it looks like the RVS files are coded by HEALPix pixel with nside=8, which can be recovered from the DR3 source_id via:\n",
    "\n",
    "dr3_source_id/(long64(2))^(59-2*8)\n"
   ]
  },
  {
   "cell_type": "code",
   "execution_count": 2,
   "id": "42bda585",
   "metadata": {
    "scrolled": true
   },
   "outputs": [
    {
     "name": "stdout",
     "output_type": "stream",
     "text": [
      "23545\n",
      "(1.238532110091743, 69.97948672013831)\n"
     ]
    }
   ],
   "source": [
    "def lat2theta(lat): return np.radians(90. - lat)\n",
    "def lon2phi(lon): return np.radians(lon)\n",
    "def ang2pix(lon, lat, nside=256):\n",
    "    theta = lat2theta(lat)\n",
    "    phi = lon2phi(lon)\n",
    "    return hp.ang2pix(nside, theta, phi)\n",
    "def theta2lat(theta): return 90 - 180*theta/np.pi\n",
    "def phi2lon(phi): return 180/np.pi * phi\n",
    "def pix2ang(pix, nside=256):\n",
    "    theta, phi =  hp.pix2ang(nside, pix)\n",
    "    lat = theta2lat(theta)\n",
    "    lon = phi2lon(phi)\n",
    "    return lon, lat\n",
    "\n",
    "ra = 0.9\n",
    "dec= 70.0\n",
    "pix = ang2pix(ra, dec)\n",
    "print(pix)\n",
    "print(pix2ang(pix))"
   ]
  },
  {
   "cell_type": "code",
   "execution_count": 3,
   "id": "18a518d2",
   "metadata": {},
   "outputs": [
    {
     "data": {
      "text/plain": [
       "256"
      ]
     },
     "execution_count": 3,
     "metadata": {},
     "output_type": "execute_result"
    }
   ],
   "source": [
    "hp.order2nside(8)"
   ]
  },
  {
   "cell_type": "code",
   "execution_count": 4,
   "id": "d922cb39",
   "metadata": {},
   "outputs": [
    {
     "data": {
      "text/plain": [
       "786432"
      ]
     },
     "execution_count": 4,
     "metadata": {},
     "output_type": "execute_result"
    }
   ],
   "source": [
    "hp.nside2npix(256)"
   ]
  },
  {
   "cell_type": "code",
   "execution_count": 5,
   "id": "a02568db",
   "metadata": {},
   "outputs": [],
   "source": [
    "with open(\"_MD5SUM.txt\",\"r\") as fp:\n",
    "    fnames = [l.strip().split()[1] for l in fp.readlines()]"
   ]
  },
  {
   "cell_type": "code",
   "execution_count": 6,
   "id": "63d531b7",
   "metadata": {},
   "outputs": [],
   "source": [
    "hp1s = [x.split(\"_\")[1].split(\"-\")[0] for x in fnames]\n",
    "hp2s = [x.split(\"_\")[1].split(\"-\")[1].split(\".\")[0] for x in fnames]\n",
    "# for x,y,z in zip(hp1s, hp2s, fnames):\n",
    "#     print(x,y,z)"
   ]
  },
  {
   "cell_type": "code",
   "execution_count": 7,
   "id": "671bfb80",
   "metadata": {},
   "outputs": [],
   "source": [
    "nside = 256\n",
    "npix = hp.nside2npix(nside)"
   ]
  },
  {
   "cell_type": "code",
   "execution_count": 8,
   "id": "83133964",
   "metadata": {},
   "outputs": [
    {
     "name": "stdout",
     "output_type": "stream",
     "text": [
      "786432 786432\n"
     ]
    }
   ],
   "source": [
    "ipix = np.arange(npix)\n",
    "ifname = []\n",
    "for x,y,z in zip(hp1s, hp2s, fnames):\n",
    "    x,y = int(x), int(y)\n",
    "    N = y - x + 1\n",
    "    ifname += [z]*N\n",
    "print(len(ifname), npix)\n",
    "# this is theta, phi coordinates\n",
    "icoo = np.vstack(pix2ang(ipix, nside))"
   ]
  },
  {
   "cell_type": "code",
   "execution_count": 9,
   "id": "99dccd0e",
   "metadata": {},
   "outputs": [],
   "source": [
    "tab = Table([ipix, ifname, icoo[0], icoo[1]],\n",
    "           names=[\"ipix\",\"fname\",\"RA\",\"Dec\"])\n",
    "coo = SkyCoord(tab[\"RA\"], tab[\"Dec\"], unit=\"deg\")\n",
    "gcoo = coo.transform_to(Galactic)\n",
    "tab[\"l\"] = gcoo.l.deg\n",
    "tab[\"b\"] = gcoo.b.deg"
   ]
  },
  {
   "cell_type": "code",
   "execution_count": 10,
   "id": "73d06d57",
   "metadata": {},
   "outputs": [
    {
     "data": {
      "text/plain": [
       "(0.0, 359.82421875)"
      ]
     },
     "execution_count": 10,
     "metadata": {},
     "output_type": "execute_result"
    }
   ],
   "source": [
    "np.min(tab[\"RA\"]), np.max(tab[\"RA\"])"
   ]
  },
  {
   "cell_type": "code",
   "execution_count": 11,
   "id": "f77f7dd6",
   "metadata": {},
   "outputs": [
    {
     "data": {
      "text/plain": [
       "(-89.81725848475486, 89.81725848475484)"
      ]
     },
     "execution_count": 11,
     "metadata": {},
     "output_type": "execute_result"
    }
   ],
   "source": [
    "np.min(tab[\"Dec\"]), np.max(tab[\"Dec\"])"
   ]
  },
  {
   "cell_type": "code",
   "execution_count": null,
   "id": "f1cd8314",
   "metadata": {},
   "outputs": [],
   "source": []
  },
  {
   "cell_type": "code",
   "execution_count": 12,
   "id": "076af593",
   "metadata": {},
   "outputs": [
    {
     "data": {
      "text/html": [
       "<div><i>Table length=786432</i>\n",
       "<table id=\"table5524730784\" class=\"table-striped table-bordered table-condensed\">\n",
       "<thead><tr><th>ipix</th><th>fname</th><th>RA</th><th>Dec</th><th>l</th><th>b</th></tr></thead>\n",
       "<thead><tr><th>int64</th><th>str45</th><th>float64</th><th>float64</th><th>float64</th><th>float64</th></tr></thead>\n",
       "<tr><td>0</td><td>XpContinuousMeanSpectrum_000000-003111.csv.gz</td><td>45.0</td><td>89.81725848475484</td><td>123.04100977548256</td><td>26.973474664347844</td></tr>\n",
       "<tr><td>1</td><td>XpContinuousMeanSpectrum_000000-003111.csv.gz</td><td>135.0</td><td>89.81725848475484</td><td>123.10593917214287</td><td>27.225363193729343</td></tr>\n",
       "<tr><td>2</td><td>XpContinuousMeanSpectrum_000000-003111.csv.gz</td><td>225.0</td><td>89.81725848475484</td><td>122.82253844255101</td><td>27.28294564955499</td></tr>\n",
       "<tr><td>3</td><td>XpContinuousMeanSpectrum_000000-003111.csv.gz</td><td>315.0</td><td>89.81725848475484</td><td>122.75821362945506</td><td>27.030927532626976</td></tr>\n",
       "<tr><td>4</td><td>XpContinuousMeanSpectrum_000000-003111.csv.gz</td><td>22.5</td><td>89.63451650477154</td><td>123.00047706765736</td><td>26.767913706973847</td></tr>\n",
       "<tr><td>5</td><td>XpContinuousMeanSpectrum_000000-003111.csv.gz</td><td>67.5</td><td>89.63451650477154</td><td>123.26620321292486</td><td>26.916349937064734</td></tr>\n",
       "<tr><td>6</td><td>XpContinuousMeanSpectrum_000000-003111.csv.gz</td><td>112.5</td><td>89.63451650477154</td><td>123.3370074093051</td><td>27.188877282548724</td></tr>\n",
       "<tr><td>7</td><td>XpContinuousMeanSpectrum_000000-003111.csv.gz</td><td>157.5</td><td>89.63451650477154</td><td>123.17021368989592</td><td>27.426116602981715</td></tr>\n",
       "<tr><td>...</td><td>...</td><td>...</td><td>...</td><td>...</td><td>...</td></tr>\n",
       "<tr><td>786423</td><td>XpContinuousMeanSpectrum_786097-786431.csv.gz</td><td>157.5</td><td>-89.63451650477154</td><td>302.6949036909616</td><td>-26.829988188300703</td></tr>\n",
       "<tr><td>786424</td><td>XpContinuousMeanSpectrum_786097-786431.csv.gz</td><td>202.5</td><td>-89.63451650477154</td><td>303.00047706765736</td><td>-26.767913706973847</td></tr>\n",
       "<tr><td>786425</td><td>XpContinuousMeanSpectrum_786097-786431.csv.gz</td><td>247.49999999999997</td><td>-89.63451650477154</td><td>303.26620321292484</td><td>-26.916349937064734</td></tr>\n",
       "<tr><td>786426</td><td>XpContinuousMeanSpectrum_786097-786431.csv.gz</td><td>292.5</td><td>-89.63451650477154</td><td>303.3370074093051</td><td>-27.188877282548724</td></tr>\n",
       "<tr><td>786427</td><td>XpContinuousMeanSpectrum_786097-786431.csv.gz</td><td>337.5</td><td>-89.63451650477154</td><td>303.17021368989595</td><td>-27.426116602981715</td></tr>\n",
       "<tr><td>786428</td><td>XpContinuousMeanSpectrum_786097-786431.csv.gz</td><td>45.0</td><td>-89.81725848475486</td><td>302.82253844255104</td><td>-27.28294564955498</td></tr>\n",
       "<tr><td>786429</td><td>XpContinuousMeanSpectrum_786097-786431.csv.gz</td><td>135.0</td><td>-89.81725848475486</td><td>302.75821362945504</td><td>-27.030927532626976</td></tr>\n",
       "<tr><td>786430</td><td>XpContinuousMeanSpectrum_786097-786431.csv.gz</td><td>225.0</td><td>-89.81725848475486</td><td>303.04100977548256</td><td>-26.973474664347854</td></tr>\n",
       "<tr><td>786431</td><td>XpContinuousMeanSpectrum_786097-786431.csv.gz</td><td>315.0</td><td>-89.81725848475486</td><td>303.1059391721428</td><td>-27.225363193729336</td></tr>\n",
       "</table></div>"
      ],
      "text/plain": [
       "<Table length=786432>\n",
       " ipix                      fname                             RA         ...         l                   b         \n",
       "int64                      str45                          float64       ...      float64             float64      \n",
       "------ --------------------------------------------- ------------------ ... ------------------ -------------------\n",
       "     0 XpContinuousMeanSpectrum_000000-003111.csv.gz               45.0 ... 123.04100977548256  26.973474664347844\n",
       "     1 XpContinuousMeanSpectrum_000000-003111.csv.gz              135.0 ... 123.10593917214287  27.225363193729343\n",
       "     2 XpContinuousMeanSpectrum_000000-003111.csv.gz              225.0 ... 122.82253844255101   27.28294564955499\n",
       "     3 XpContinuousMeanSpectrum_000000-003111.csv.gz              315.0 ... 122.75821362945506  27.030927532626976\n",
       "     4 XpContinuousMeanSpectrum_000000-003111.csv.gz               22.5 ... 123.00047706765736  26.767913706973847\n",
       "     5 XpContinuousMeanSpectrum_000000-003111.csv.gz               67.5 ... 123.26620321292486  26.916349937064734\n",
       "     6 XpContinuousMeanSpectrum_000000-003111.csv.gz              112.5 ...  123.3370074093051  27.188877282548724\n",
       "     7 XpContinuousMeanSpectrum_000000-003111.csv.gz              157.5 ... 123.17021368989592  27.426116602981715\n",
       "   ...                                           ...                ... ...                ...                 ...\n",
       "786423 XpContinuousMeanSpectrum_786097-786431.csv.gz              157.5 ...  302.6949036909616 -26.829988188300703\n",
       "786424 XpContinuousMeanSpectrum_786097-786431.csv.gz              202.5 ... 303.00047706765736 -26.767913706973847\n",
       "786425 XpContinuousMeanSpectrum_786097-786431.csv.gz 247.49999999999997 ... 303.26620321292484 -26.916349937064734\n",
       "786426 XpContinuousMeanSpectrum_786097-786431.csv.gz              292.5 ...  303.3370074093051 -27.188877282548724\n",
       "786427 XpContinuousMeanSpectrum_786097-786431.csv.gz              337.5 ... 303.17021368989595 -27.426116602981715\n",
       "786428 XpContinuousMeanSpectrum_786097-786431.csv.gz               45.0 ... 302.82253844255104  -27.28294564955498\n",
       "786429 XpContinuousMeanSpectrum_786097-786431.csv.gz              135.0 ... 302.75821362945504 -27.030927532626976\n",
       "786430 XpContinuousMeanSpectrum_786097-786431.csv.gz              225.0 ... 303.04100977548256 -26.973474664347854\n",
       "786431 XpContinuousMeanSpectrum_786097-786431.csv.gz              315.0 ...  303.1059391721428 -27.225363193729336"
      ]
     },
     "execution_count": 12,
     "metadata": {},
     "output_type": "execute_result"
    }
   ],
   "source": [
    "tab"
   ]
  },
  {
   "cell_type": "code",
   "execution_count": 13,
   "id": "a839dac2",
   "metadata": {},
   "outputs": [
    {
     "data": {
      "text/plain": [
       "[<matplotlib.lines.Line2D at 0x14c782580>]"
      ]
     },
     "execution_count": 13,
     "metadata": {},
     "output_type": "execute_result"
    },
    {
     "data": {
      "image/png": "[encoded data removed]",
      "text/plain": [
       "<Figure size 432x288 with 1 Axes>"
      ]
     },
     "metadata": {
      "needs_background": "light"
     },
     "output_type": "display_data"
    }
   ],
   "source": [
    "plt.plot(tab[\"ipix\"], tab[\"Dec\"], ',')"
   ]
  },
  {
   "cell_type": "code",
   "execution_count": 14,
   "id": "8dd0bebe",
   "metadata": {},
   "outputs": [
    {
     "data": {
      "text/plain": [
       "[<matplotlib.lines.Line2D at 0x14e076c40>]"
      ]
     },
     "execution_count": 14,
     "metadata": {},
     "output_type": "execute_result"
    },
    {
     "data": {
      "image/png": "[encoded data removed]",
      "text/plain": [
       "<Figure size 432x288 with 1 Axes>"
      ]
     },
     "metadata": {
      "needs_background": "light"
     },
     "output_type": "display_data"
    }
   ],
   "source": [
    "plt.plot(tab[\"ipix\"], tab[\"b\"], ',', alpha=.1)"
   ]
  },
  {
   "cell_type": "code",
   "execution_count": 15,
   "id": "061a1485",
   "metadata": {},
   "outputs": [
    {
     "data": {
      "text/plain": [
       "(393234, 786432)"
      ]
     },
     "execution_count": 15,
     "metadata": {},
     "output_type": "execute_result"
    }
   ],
   "source": [
    "np.sum(np.abs(tab[\"b\"]) > 30), len(tab)"
   ]
  },
  {
   "cell_type": "code",
   "execution_count": 16,
   "id": "a9c799c9",
   "metadata": {},
   "outputs": [
    {
     "data": {
      "text/plain": [
       "(2685, 3386)"
      ]
     },
     "execution_count": 16,
     "metadata": {},
     "output_type": "execute_result"
    }
   ],
   "source": [
    "np.unique(tab[np.abs(tab[\"b\"]) > 20][\"fname\"]).size, len(np.unique(tab[\"fname\"]))"
   ]
  },
  {
   "cell_type": "code",
   "execution_count": 17,
   "id": "0ad30161",
   "metadata": {},
   "outputs": [
    {
     "data": {
      "text/plain": [
       "701"
      ]
     },
     "execution_count": 17,
     "metadata": {},
     "output_type": "execute_result"
    }
   ],
   "source": [
    "3386-2685"
   ]
  },
  {
   "cell_type": "code",
   "execution_count": 18,
   "id": "1f29685c",
   "metadata": {},
   "outputs": [],
   "source": [
    "sizes = Table.read(\"XpSize.txt\", format=\"ascii.fixed_width_two_line\")"
   ]
  },
  {
   "cell_type": "code",
   "execution_count": 19,
   "id": "3d888cb6",
   "metadata": {},
   "outputs": [
    {
     "data": {
      "text/plain": [
       "0"
      ]
     },
     "execution_count": 19,
     "metadata": {},
     "output_type": "execute_result"
    }
   ],
   "source": [
    "np.sum(~np.isin(tab[\"fname\"], sizes[\"fname\"]))\n"
   ]
  },
  {
   "cell_type": "code",
   "execution_count": 20,
   "id": "6969b494",
   "metadata": {},
   "outputs": [
    {
     "name": "stdout",
     "output_type": "stream",
     "text": [
      "3609790342836, 0.84, 0.73, 0.60\n"
     ]
    }
   ],
   "source": [
    "total_size = np.sum(sizes[\"size\"])\n",
    "ii = np.abs(tab[\"b\"]) > 20\n",
    "b20_size = np.sum(sizes[\"size\"][np.isin(sizes[\"fname\"], tab[ii][\"fname\"])])\n",
    "ii = np.abs(tab[\"b\"]) > 30\n",
    "b30_size = np.sum(sizes[\"size\"][np.isin(sizes[\"fname\"], tab[ii][\"fname\"])])\n",
    "ii = np.abs(tab[\"b\"]) > 40\n",
    "b40_size = np.sum(sizes[\"size\"][np.isin(sizes[\"fname\"], tab[ii][\"fname\"])])\n",
    "print(f\"{total_size}, {b20_size/total_size:.2f}, {b30_size/total_size:.2f}, {b40_size/total_size:.2f}\")"
   ]
  },
  {
   "cell_type": "code",
   "execution_count": null,
   "id": "f1a7355a",
   "metadata": {},
   "outputs": [],
   "source": []
  }
 ],
 "metadata": {
  "kernelspec": {
   "display_name": "Python 3 (ipykernel)",
   "language": "python",
   "name": "python3"
  },
  "language_info": {
   "codemirror_mode": {
    "name": "ipython",
    "version": 3
   },
   "file_extension": ".py",
   "mimetype": "text/x-python",
   "name": "python",
   "nbconvert_exporter": "python",
   "pygments_lexer": "ipython3",
   "version": "3.9.12"
  }
 },
 "nbformat": 4,
 "nbformat_minor": 5
}
