{
 "cells": [
  {
   "cell_type": "code",
   "execution_count": 1,
   "id": "8dac11ce",
   "metadata": {},
   "outputs": [],
   "source": [
    "%matplotlib inline\n",
    "import numpy as np\n",
    "import matplotlib.pyplot as plt\n",
    "from astropy.table import Table, join"
   ]
  },
  {
   "cell_type": "markdown",
   "id": "50edd510",
   "metadata": {},
   "source": [
    "Joker is a catalog of spectroscopic binaries from APOGEE by Adrian Price-Whelan\n",
    "\n",
    "Data access\n",
    "https://www.sdss.org/dr17/data_access/value-added-catalogs/?vac_id=orbital-parameter-samplings-of-apogee-2-stars-from-the-joker\n",
    "\n",
    "Column info\n",
    "https://data.sdss.org/datamodel/files/APOGEE_THEJOKER/apJoker-metadata.html\n",
    "\n",
    "Paper (with DR16)\n",
    "https://ui.adsabs.harvard.edu/abs/2020ApJ...895....2P/abstract\n",
    "\n",
    "Our goal here is to cross-match this table with Gaia DR3. We ultimately want to make a table where each row is one star, and it has information from APOGEE, gaia_source, nss_two_body_orbit, and astrophysical_parameters.\n",
    "We will accomplish this by making a table to upload to the Gaia archive, then matching both with source ID and coordinate crossmatch."
   ]
  },
  {
   "cell_type": "code",
   "execution_count": 2,
   "id": "695f5931",
   "metadata": {},
   "outputs": [
    {
     "name": "stderr",
     "output_type": "stream",
     "text": [
      "WARNING: hdu= was not specified but multiple tables are present, reading in first available table (hdu=1) [astropy.io.fits.connect]\n"
     ]
    }
   ],
   "source": [
    "# allStarLite: https://www.sdss.org/dr17/irspec/spectro_data/#SummaryCatalogs\n",
    "apogee = Table.read(\"/Users/alexji/APOGEE/allStarLite-dr17-synspec_rev1.fits\")\n",
    "apogee = apogee[apogee[\"EXTRATARG\"] == 0] # https://www.sdss.org/dr17/irspec/catalogs/\n",
    "joker = Table.read(\"apJoker-metadata.fits\")"
   ]
  },
  {
   "cell_type": "code",
   "execution_count": 3,
   "id": "1aeaf832",
   "metadata": {},
   "outputs": [],
   "source": [
    "?join"
   ]
  },
  {
   "cell_type": "markdown",
   "id": "34539867",
   "metadata": {},
   "source": [
    "The Joker catalog does not have RA, Dec, or EDR3 Source ID. So we need to join it with the main APOGEE table.\n",
    "We can use the APOGEE_ID column to join the tables.\n",
    "\n",
    "When doing this, be careful about duplicate column names. astropy by default calls columns x_1 and x_2 from the two tables when they're duplicated, but it's easier for you if you get rid of duplicate columns (e.g. `tab.remove_columns` will let you specify a list to remove). However, the only duplicate column in these tables is APOGEE_ID, which is the key we are joining on."
   ]
  },
  {
   "cell_type": "code",
   "execution_count": 4,
   "id": "92d61376",
   "metadata": {},
   "outputs": [],
   "source": [
    "mergetab = join(joker, apogee, \"APOGEE_ID\", \"inner\")"
   ]
  },
  {
   "cell_type": "markdown",
   "id": "b2eeb75b",
   "metadata": {},
   "source": [
    "Check that the lengths make sense: we want the same or fewer numbers in mergetab as we do in the other two tables. These numbers makes sense, not all APOGEE spectra have multiple RV observations."
   ]
  },
  {
   "cell_type": "code",
   "execution_count": 5,
   "id": "bb4ad60b",
   "metadata": {},
   "outputs": [
    {
     "data": {
      "text/plain": [
       "(251561, 358350, 372458)"
      ]
     },
     "execution_count": 5,
     "metadata": {},
     "output_type": "execute_result"
    }
   ],
   "source": [
    "len(mergetab), len(joker), len(apogee)"
   ]
  },
  {
   "cell_type": "markdown",
   "id": "a07bdcd3",
   "metadata": {},
   "source": [
    "Make sure there is a unique ID for later joining after you do the Gaia query."
   ]
  },
  {
   "cell_type": "code",
   "execution_count": 6,
   "id": "fbac85c4",
   "metadata": {},
   "outputs": [
    {
     "data": {
      "text/plain": [
       "(array([251561]), 251561)"
      ]
     },
     "execution_count": 6,
     "metadata": {},
     "output_type": "execute_result"
    }
   ],
   "source": [
    "np.unique(mergetab[\"APOGEE_ID\"].size), len(mergetab)"
   ]
  },
  {
   "cell_type": "markdown",
   "id": "67c16157",
   "metadata": {},
   "source": [
    "We'll write out a smaller table with just crucial information for joining to upload to the Gaia archive.\n",
    "\n",
    "For tutorial, get just the first 1000:\n",
    "https://www.dropbox.com/s/r2sc28ejl5ttl9c/thejoker_coords_short.csv?dl=0\n",
    "\n",
    "For the full catalog:\n",
    "https://www.dropbox.com/s/jkbg8grw3nb5brz/thejoker_coords.csv?dl=0"
   ]
  },
  {
   "cell_type": "code",
   "execution_count": 7,
   "id": "3072c9b3",
   "metadata": {},
   "outputs": [],
   "source": [
    "mergetab[\"APOGEE_ID\",\"RA\",\"DEC\",\"GAIAEDR3_SOURCE_ID\"].write(\"thejoker_coords.csv\", overwrite=True)"
   ]
  },
  {
   "cell_type": "code",
   "execution_count": 8,
   "id": "6c6923f2",
   "metadata": {},
   "outputs": [],
   "source": [
    "elems = [\"C\",\"N\",\"O\",\"NA\",\"MG\",\"AL\",\"SI\",\"P\",\"S\",\"K\",\"CA\",\"TI\",\"V\",\"CR\",\"MN\",\"CO\",\"NI\",\"CU\",\"CE\"]\n",
    "cols_to_keep = list(joker.colnames) + [\n",
    "    \"RA\",\"DEC\",\"J\",\"H\",\"K\",\"SNR\",\n",
    "    \"VHELIO_AVG\",\"VSCATTER\",\"VERR\",\n",
    "    \"GAIAEDR3_SOURCE_ID\",\"GAIAEDR3_PARALLAX\",\"GAIAEDR3_PARALLAX_ERROR\",\"GAIAEDR3_PMRA\",\"GAIAEDR3_PMDEC\",\n",
    "    \"TEFF\",\"LOGG\",\"M_H\",\"FE_H\",\"ALPHA_M\",\"VMICRO\",\"VSINI\",\"TEFF_SPEC\",\"LOGG_SPEC\",\n",
    "] + [x+\"_FE\" for x in elems]"
   ]
  },
  {
   "cell_type": "code",
   "execution_count": 9,
   "id": "68e3be65",
   "metadata": {},
   "outputs": [],
   "source": [
    "mergetabwrite = mergetab[cols_to_keep]\n",
    "mergetabwrite.write(\"joker_apogee.fits\", overwrite=True)"
   ]
  },
  {
   "cell_type": "markdown",
   "id": "4761cf0d",
   "metadata": {},
   "source": [
    "Available at this dropbox link if you want to avoid the catalog munging (120MB):\n",
    "\n",
    "https://www.dropbox.com/s/xatfx0m3ddl5owv/joker_apogee.fits?dl=0"
   ]
  },
  {
   "cell_type": "code",
   "execution_count": 10,
   "id": "a3e7ae47",
   "metadata": {},
   "outputs": [
    {
     "data": {
      "text/plain": [
       "array(['APOGEE_ID', 'n_visits', 'MAP_P', 'MAP_P_err', 'MAP_e',\n",
       "       'MAP_e_err', 'MAP_omega', 'MAP_omega_err', 'MAP_M0', 'MAP_M0_err',\n",
       "       'MAP_K', 'MAP_K_err', 'MAP_v0', 'MAP_v0_err', 'MAP_s', 'MAP_s_err',\n",
       "       'MAP_t0_bmjd', 't_ref_bmjd', 'baseline', 'MAP_ln_likelihood',\n",
       "       'MAP_ln_prior', 'max_unmarginalized_ln_likelihood',\n",
       "       'max_phase_gap', 'periods_spanned', 'phase_coverage',\n",
       "       'phase_coverage_per_period', 'unimodal', 'joker_completed',\n",
       "       'mcmc_completed', 'mcmc_status', 'gelman_rubin_max',\n",
       "       'constant_ln_likelihood', 'robust_constant_ln_likelihood',\n",
       "       'robust_constant_mean', 'robust_constant_scatter',\n",
       "       'robust_constant_success', 'robust_linear_ln_likelihood',\n",
       "       'robust_linear_a', 'robust_linear_b', 'robust_linear_scatter',\n",
       "       'robust_linear_success', 'TELESCOPE', 'FIELD', 'ALT_ID', 'RA',\n",
       "       'DEC', 'GLON', 'GLAT', 'J', 'J_ERR', 'H', 'H_ERR', 'K', 'K_ERR',\n",
       "       'AK_TARG', 'AK_TARG_METHOD', 'AK_WISE', 'SFD_EBV',\n",
       "       'APOGEE_TARGET1', 'APOGEE_TARGET2', 'APOGEE2_TARGET1',\n",
       "       'APOGEE2_TARGET2', 'APOGEE2_TARGET3', 'APOGEE2_TARGET4',\n",
       "       'TARGFLAGS', 'SURVEY', 'PROGRAMNAME', 'NVISITS', 'SNR', 'SNREV',\n",
       "       'STARFLAG', 'STARFLAGS', 'ANDFLAG', 'ANDFLAGS', 'VHELIO_AVG',\n",
       "       'VSCATTER', 'VERR', 'RV_TEFF', 'RV_LOGG', 'RV_FEH', 'RV_ALPHA',\n",
       "       'RV_CARB', 'RV_CHI2', 'RV_CCFWHM', 'RV_AUTOFWHM', 'RV_FLAG',\n",
       "       'N_COMPONENTS', 'MEANFIB', 'SIGFIB', 'MIN_H', 'MAX_H', 'MIN_JK',\n",
       "       'MAX_JK', 'GAIAEDR3_SOURCE_ID', 'GAIAEDR3_PARALLAX',\n",
       "       'GAIAEDR3_PARALLAX_ERROR', 'GAIAEDR3_PMRA', 'GAIAEDR3_PMRA_ERROR',\n",
       "       'GAIAEDR3_PMDEC', 'GAIAEDR3_PMDEC_ERROR',\n",
       "       'GAIAEDR3_PHOT_G_MEAN_MAG', 'GAIAEDR3_PHOT_BP_MEAN_MAG',\n",
       "       'GAIAEDR3_PHOT_RP_MEAN_MAG', 'GAIAEDR3_DR2_RADIAL_VELOCITY',\n",
       "       'GAIAEDR3_DR2_RADIAL_VELOCITY_ERROR', 'GAIAEDR3_R_MED_GEO',\n",
       "       'GAIAEDR3_R_LO_GEO', 'GAIAEDR3_R_HI_GEO',\n",
       "       'GAIAEDR3_R_MED_PHOTOGEO', 'GAIAEDR3_R_LO_PHOTOGEO',\n",
       "       'GAIAEDR3_R_HI_PHOTOGEO', 'ASPCAP_GRID', 'ASPCAP_CHI2',\n",
       "       'PARAMFLAG', 'ASPCAPFLAG', 'ASPCAPFLAGS', 'FRAC_BADPIX',\n",
       "       'FRAC_LOWSNR', 'FRAC_SIGSKY', 'X_H', 'X_H_ERR', 'X_M', 'X_M_ERR',\n",
       "       'ELEM_CHI2', 'ELEMFRAC', 'EXTRATARG', 'MEMBERFLAG', 'MEMBER',\n",
       "       'X_H_SPEC', 'X_M_SPEC', 'TEFF', 'TEFF_ERR', 'LOGG', 'LOGG_ERR',\n",
       "       'M_H', 'M_H_ERR', 'ALPHA_M', 'ALPHA_M_ERR', 'VMICRO', 'VMACRO',\n",
       "       'VSINI', 'TEFF_SPEC', 'LOGG_SPEC', 'C_FE', 'C_FE_SPEC', 'C_FE_ERR',\n",
       "       'C_FE_FLAG', 'CI_FE', 'CI_FE_SPEC', 'CI_FE_ERR', 'CI_FE_FLAG',\n",
       "       'N_FE', 'N_FE_SPEC', 'N_FE_ERR', 'N_FE_FLAG', 'O_FE', 'O_FE_SPEC',\n",
       "       'O_FE_ERR', 'O_FE_FLAG', 'NA_FE', 'NA_FE_SPEC', 'NA_FE_ERR',\n",
       "       'NA_FE_FLAG', 'MG_FE', 'MG_FE_SPEC', 'MG_FE_ERR', 'MG_FE_FLAG',\n",
       "       'AL_FE', 'AL_FE_SPEC', 'AL_FE_ERR', 'AL_FE_FLAG', 'SI_FE',\n",
       "       'SI_FE_SPEC', 'SI_FE_ERR', 'SI_FE_FLAG', 'P_FE', 'P_FE_SPEC',\n",
       "       'P_FE_ERR', 'P_FE_FLAG', 'S_FE', 'S_FE_SPEC', 'S_FE_ERR',\n",
       "       'S_FE_FLAG', 'K_FE', 'K_FE_SPEC', 'K_FE_ERR', 'K_FE_FLAG', 'CA_FE',\n",
       "       'CA_FE_SPEC', 'CA_FE_ERR', 'CA_FE_FLAG', 'TI_FE', 'TI_FE_SPEC',\n",
       "       'TI_FE_ERR', 'TI_FE_FLAG', 'TIII_FE', 'TIII_FE_SPEC',\n",
       "       'TIII_FE_ERR', 'TIII_FE_FLAG', 'V_FE', 'V_FE_SPEC', 'V_FE_ERR',\n",
       "       'V_FE_FLAG', 'CR_FE', 'CR_FE_SPEC', 'CR_FE_ERR', 'CR_FE_FLAG',\n",
       "       'MN_FE', 'MN_FE_SPEC', 'MN_FE_ERR', 'MN_FE_FLAG', 'FE_H',\n",
       "       'FE_H_SPEC', 'FE_H_ERR', 'FE_H_FLAG', 'CO_FE', 'CO_FE_SPEC',\n",
       "       'CO_FE_ERR', 'CO_FE_FLAG', 'NI_FE', 'NI_FE_SPEC', 'NI_FE_ERR',\n",
       "       'NI_FE_FLAG', 'CU_FE', 'CU_FE_SPEC', 'CU_FE_ERR', 'CU_FE_FLAG',\n",
       "       'CE_FE', 'CE_FE_SPEC', 'CE_FE_ERR', 'CE_FE_FLAG'], dtype='<U34')"
      ]
     },
     "execution_count": 10,
     "metadata": {},
     "output_type": "execute_result"
    }
   ],
   "source": [
    "np.array(mergetab.colnames)"
   ]
  },
  {
   "cell_type": "markdown",
   "id": "ef493bbe",
   "metadata": {},
   "source": [
    "# Option 1: match by source_id\n",
    "\n",
    "1. Upload your user table (in this case, `thejoker_coords.csv`). In Search -> Advanced (ADQL) you can click the button with the up arrow to upload (mouseover to see what the buttons do). Give it a short but descriptive name (in my case I called it `joker`)\n",
    "2. Once uploaded, on the left panel of different data tables scroll down to User tables and your table should be there (mine is `user_aji.joker`). \n",
    "\n",
    "Example query:\n",
    "```\n",
    "SELECT \n",
    "a.apogee_id,\n",
    "b.ra, b.dec, b.parallax, b.parallax_error, b.parallax_over_error, b.pmra, b.pmdec, \n",
    "b.radial_velocity, b.radial_velocity_error,\n",
    "b.phot_g_mean_mag, b.phot_bp_mean_mag, b.phot_rp_mean_mag,\n",
    "b.teff_gspphot, b.logg_gspphot, b.mh_gspphot, b.distance_gspphot, b.ag_gspphot, b.ebpminrp_gspphot,\n",
    "c.nss_solution_type, c.period, c.period_error, c.eccentricity, c.eccentricity_error, \n",
    "c.semi_amplitude_primary, c.semi_amplitude_primary_error, c.semi_amplitude_secondary, c.semi_amplitude_secondary_error,\n",
    "c.mass_ratio, c.mass_ratio_error, c.goodness_of_fit, c.significance, c.g_luminosity_ratio\n",
    "FROM user_aji.joker as a\n",
    "INNER JOIN\n",
    "gaiadr3.gaia_source_lite as b ON a.gaiaedr3_source_id = b.source_id\n",
    "INNER JOIN\n",
    "gaiadr3.nss_two_body_orbit as c ON b.source_id = c.source_id\n",
    "```\n",
    "\n",
    "The main parts of a query are:\n",
    "```\n",
    "SELECT <LIMIT N>\n",
    "<column names>\n",
    "FROM <table1>\n",
    "<INNER/LEFT/RIGHT/OUTER/FULL> JOIN <table2> ON <condition>\n",
    "WHERE\n",
    "<condition1>\n",
    "AND\n",
    "<condition2>\n",
    "```\n",
    "\n",
    "In this case our conditions are just making sure the source IDs match, which you can enforce with JOIN, so there is no need for WHERE.\n",
    "\n",
    "### Some general comments for SQL\n",
    "\n",
    "I make a huge number of typos when writing SQL queries. If you click the \"i\" icon on the right of your job, it opens up some information about the query. If your query failed, you can click the \"Error Summary\" tab to see why it failed.\n",
    "The most common error is \"unresolved identifier\" which lists how many are broken at the end; usually it means you made a typo or that column doesn't exist in the table you're asking for.\n",
    "\n",
    "In general I like doing something like LIMIT 10 or 100 to start, to get an estimate of how long it'll take to query the whole table."
   ]
  },
  {
   "cell_type": "markdown",
   "id": "78f3c479",
   "metadata": {},
   "source": [
    "# Option 2: cross-match ra/dec, then match by source_id\n",
    "\n",
    "1. Upload your user table if you haven't already.\n",
    "2. In the left panel, scroll back to the user table. Click the checkbox next to your table then click the \"Edit table\" button at the top (the spreadsheet-looking document). Mark the columns that are RA and Dec.\n",
    "3. Click the \"Cross-match tables\" button at the top (two stars). Using the dropdown menus, select the two tables you would like to cross match based on their RA and Dec. For Table A I used `user_aji.joker` and for Table B I used `gaiadr3.gaia_source`. I used radius = 1 arcsec which is usually pretty good though you can expand it if you need. It will always take the object with the closest position. Execute the crossmatch. (This is a special database operation and will fail if you did not mark columns an RA and Dec.)\n",
    "4. Once it finishes running, you should have a new user table, e.g. `user_aji.xmatch_joker_gaia_source`. In my case I have three columns in this table: `gaia_source_source_id` which is the ID column of the ; `joker_joker_oid` which is a new ID created when I uploaded the table; and `separation` which is the separation between the sources in degrees (should always be less than 1 arcsec = 2.8e-4 degrees if you matched within 1 arcsec).\n",
    "5. Now, do the query similar to above but adding the cross match table as a condition on the source ID. For example:\n",
    "\n",
    "```\n",
    "SELECT \n",
    "a.apogee_id,\n",
    "b.ra, b.dec, b.parallax, b.parallax_error, b.parallax_over_error, b.pmra, b.pmdec, \n",
    "b.radial_velocity, b.radial_velocity_error,\n",
    "b.phot_g_mean_mag, b.phot_bp_mean_mag, b.phot_rp_mean_mag,\n",
    "b.teff_gspphot, b.logg_gspphot, b.mh_gspphot, b.distance_gspphot, b.ag_gspphot, b.ebpminrp_gspphot,\n",
    "c.nss_solution_type, c.period, c.period_error, c.eccentricity, c.eccentricity_error, \n",
    "c.semi_amplitude_primary, c.semi_amplitude_primary_error, c.semi_amplitude_secondary, c.semi_amplitude_secondary_error,\n",
    "c.mass_ratio, c.mass_ratio_error, c.goodness_of_fit, c.significance, c.g_luminosity_ratio\n",
    "FROM user_aji.joker as a\n",
    "INNER JOIN\n",
    "user_aji.xmatch_joker_gaia_source as xm ON a.joker_oid = xm.joker_joker_oid\n",
    "INNER JOIN\n",
    "gaiadr3.gaia_source_lite as b ON a.gaiaedr3_source_id = xm.gaia_source_source_id\n",
    "INNER JOIN\n",
    "gaiadr3.nss_two_body_orbit as c ON xm.gaia_source_source_id = c.source_id\n",
    "```\n",
    "\n",
    "### WARNING\n",
    "In general, cross-matching using coordinates can be a tricky process:\n",
    "* stars move, so you need to adjust for their proper motions\n",
    "* stars in crowded regions (disk, bulge, clusters) have multiple companions, and sometimes the right match is not the closest one. \n",
    "* if your underlying position catalog has different uncertainties (e.g. 2MASS, WISE have large PSFs, compared to optical surveys; most optical surveys have large PSFs compared to Gaia) it can be hard to associate the right sources together. Sometimes multiple objects in one catalog could be associated with the other catalog.\n",
    "\n",
    "This is not to discourage you from cross-matching, but if someone has already given you a Source ID, they have (probably) done some verification work, so their ID is better to use than redoing the crossmatch yourself."
   ]
  },
  {
   "cell_type": "code",
   "execution_count": null,
   "id": "805d37f3",
   "metadata": {},
   "outputs": [],
   "source": []
  },
  {
   "cell_type": "markdown",
   "id": "fe8a0365",
   "metadata": {},
   "source": [
    "# Full Query\n",
    "\n",
    "This is the one I actually decided to use.\n",
    "\n",
    "```\n",
    "SELECT\n",
    "a.apogee_id,\n",
    "b.ra, b.dec, b.parallax, b.parallax_error, b.parallax_over_error,\n",
    "b.pmra, b.pmra_error, b.pmdec, b.pmdec_error, b.ruwe, \n",
    "b.phot_g_mean_mag, b.phot_bp_mean_mag, b.phot_rp_mean_mag,\n",
    "b.radial_velocity, b.radial_velocity_error,\n",
    "b.rv_nb_transits, b.rv_expected_sig_to_noise, b.rv_renormalised_gof, b.rv_chisq_pvalue,\n",
    "b.non_single_star, b.has_xp_continuous, b.has_rvs, b.has_epoch_photometry, b.has_epoch_rv,\n",
    "b.teff_gspphot, b.logg_gspphot, b.mh_gspphot, b.distance_gspphot, b.ag_gspphot, b.ebpminrp_gspphot,\n",
    "c.nss_solution_type, c.period, c.period_error, c.eccentricity, c.eccentricity_error, \n",
    "c.semi_amplitude_primary, c.semi_amplitude_primary_error, c.semi_amplitude_secondary, c.semi_amplitude_secondary_error,\n",
    "c.mass_ratio, c.mass_ratio_error, c.goodness_of_fit, c.significance, c.g_luminosity_ratio,\n",
    "d.teff_gspspec, d.logg_gspspec, d.mh_gspspec, d.alphafe_gspspec, d.flags_gspspec,\n",
    "d.radius_flame, d.lum_flame, d.mass_flame, d.age_flame, d.flags_flame, d.evolstage_flame\n",
    "FROM user_aji.joker as a\n",
    "INNER JOIN\n",
    "gaiadr3.gaia_source_lite as b ON a.gaiaedr3_source_id = b.source_id\n",
    "INNER JOIN\n",
    "gaiadr3.nss_two_body_orbit as c ON b.source_id = c.source_id\n",
    "INNER JOIN\n",
    "gaiadr3.astrophysical_parameters as d ON b.source_id = d.source_id\n",
    "```\n",
    "\n",
    "I have saved this query here (but it takes less than a minute to run on the archive because there's so few objects in the cross match):\n",
    "https://www.dropbox.com/s/mcwtgun4ra6whmz/jokerv1-result.fits.gz?dl=0"
   ]
  },
  {
   "cell_type": "markdown",
   "id": "9062deac",
   "metadata": {},
   "source": [
    "# Example of how to use the joined catalog\n",
    "\n",
    "Now that you have a table where each row is the same object in both Gaia and APOGEE+Joker, you can plot their properties against each other!"
   ]
  },
  {
   "cell_type": "code",
   "execution_count": 11,
   "id": "878a36b0",
   "metadata": {},
   "outputs": [],
   "source": [
    "gtab = Table.read(\"jokerv1-result.fits.gz\")\n",
    "gtab.rename_column(\"apogee_id\", \"APOGEE_ID\")"
   ]
  },
  {
   "cell_type": "code",
   "execution_count": 12,
   "id": "738ef159",
   "metadata": {},
   "outputs": [],
   "source": [
    "jokerall = join(mergetabwrite, gtab, \"APOGEE_ID\", \"inner\")"
   ]
  },
  {
   "cell_type": "code",
   "execution_count": 13,
   "id": "fefa5153",
   "metadata": {},
   "outputs": [
    {
     "data": {
      "text/plain": [
       "(3792, 251561, 3792)"
      ]
     },
     "execution_count": 13,
     "metadata": {},
     "output_type": "execute_result"
    }
   ],
   "source": [
    "len(jokerall), len(mergetabwrite), len(gtab)"
   ]
  },
  {
   "cell_type": "code",
   "execution_count": 14,
   "id": "169d0ab2",
   "metadata": {},
   "outputs": [
    {
     "data": {
      "text/plain": [
       "(3792, 138)"
      ]
     },
     "execution_count": 14,
     "metadata": {},
     "output_type": "execute_result"
    }
   ],
   "source": [
    "len(jokerall), len(jokerall.colnames)"
   ]
  },
  {
   "cell_type": "code",
   "execution_count": 15,
   "id": "99e40675",
   "metadata": {},
   "outputs": [
    {
     "data": {
      "text/plain": [
       "array(['APOGEE_ID', 'n_visits', 'MAP_P', 'MAP_P_err', 'MAP_e',\n",
       "       'MAP_e_err', 'MAP_omega', 'MAP_omega_err', 'MAP_M0', 'MAP_M0_err',\n",
       "       'MAP_K', 'MAP_K_err', 'MAP_v0', 'MAP_v0_err', 'MAP_s', 'MAP_s_err',\n",
       "       'MAP_t0_bmjd', 't_ref_bmjd', 'baseline', 'MAP_ln_likelihood',\n",
       "       'MAP_ln_prior', 'max_unmarginalized_ln_likelihood',\n",
       "       'max_phase_gap', 'periods_spanned', 'phase_coverage',\n",
       "       'phase_coverage_per_period', 'unimodal', 'joker_completed',\n",
       "       'mcmc_completed', 'mcmc_status', 'gelman_rubin_max',\n",
       "       'constant_ln_likelihood', 'robust_constant_ln_likelihood',\n",
       "       'robust_constant_mean', 'robust_constant_scatter',\n",
       "       'robust_constant_success', 'robust_linear_ln_likelihood',\n",
       "       'robust_linear_a', 'robust_linear_b', 'robust_linear_scatter',\n",
       "       'robust_linear_success', 'RA', 'DEC', 'J', 'H', 'K', 'SNR',\n",
       "       'VHELIO_AVG', 'VSCATTER', 'VERR', 'GAIAEDR3_SOURCE_ID',\n",
       "       'GAIAEDR3_PARALLAX', 'GAIAEDR3_PARALLAX_ERROR', 'GAIAEDR3_PMRA',\n",
       "       'GAIAEDR3_PMDEC', 'TEFF', 'LOGG', 'M_H', 'FE_H', 'ALPHA_M',\n",
       "       'VMICRO', 'VSINI', 'TEFF_SPEC', 'LOGG_SPEC', 'C_FE', 'N_FE',\n",
       "       'O_FE', 'NA_FE', 'MG_FE', 'AL_FE', 'SI_FE', 'P_FE', 'S_FE', 'K_FE',\n",
       "       'CA_FE', 'TI_FE', 'V_FE', 'CR_FE', 'MN_FE', 'CO_FE', 'NI_FE',\n",
       "       'CU_FE', 'CE_FE', 'ra', 'dec', 'parallax', 'parallax_error',\n",
       "       'parallax_over_error', 'pmra', 'pmra_error', 'pmdec',\n",
       "       'pmdec_error', 'ruwe', 'phot_g_mean_mag', 'phot_bp_mean_mag',\n",
       "       'phot_rp_mean_mag', 'radial_velocity', 'radial_velocity_error',\n",
       "       'rv_nb_transits', 'rv_expected_sig_to_noise',\n",
       "       'rv_renormalised_gof', 'rv_chisq_pvalue', 'non_single_star',\n",
       "       'has_xp_continuous', 'has_rvs', 'has_epoch_photometry',\n",
       "       'has_epoch_rv', 'teff_gspphot', 'logg_gspphot', 'mh_gspphot',\n",
       "       'distance_gspphot', 'ag_gspphot', 'ebpminrp_gspphot',\n",
       "       'nss_solution_type', 'period', 'period_error', 'eccentricity',\n",
       "       'eccentricity_error', 'semi_amplitude_primary',\n",
       "       'semi_amplitude_primary_error', 'semi_amplitude_secondary',\n",
       "       'semi_amplitude_secondary_error', 'mass_ratio', 'mass_ratio_error',\n",
       "       'goodness_of_fit', 'significance', 'g_luminosity_ratio',\n",
       "       'teff_gspspec', 'logg_gspspec', 'mh_gspspec', 'alphafe_gspspec',\n",
       "       'flags_gspspec', 'radius_flame', 'lum_flame', 'mass_flame',\n",
       "       'age_flame', 'flags_flame', 'evolstage_flame'], dtype='<U32')"
      ]
     },
     "execution_count": 15,
     "metadata": {},
     "output_type": "execute_result"
    }
   ],
   "source": [
    "np.array(jokerall.colnames)"
   ]
  },
  {
   "cell_type": "code",
   "execution_count": 16,
   "id": "c0f8e587",
   "metadata": {},
   "outputs": [
    {
     "data": {
      "image/png": "[encoded data removed]",
      "text/plain": [
       "<Figure size 432x288 with 1 Axes>"
      ]
     },
     "metadata": {
      "needs_background": "light"
     },
     "output_type": "display_data"
    }
   ],
   "source": [
    "plt.hist(jokerall[\"significance\"], bins=200);\n",
    "plt.xlabel(\"Gaia NSS significance\");"
   ]
  },
  {
   "cell_type": "code",
   "execution_count": 17,
   "id": "54247720",
   "metadata": {},
   "outputs": [
    {
     "name": "stdout",
     "output_type": "stream",
     "text": [
      "143 systems at Gaia significance > 10 and joker unimodal\n"
     ]
    },
    {
     "data": {
      "text/plain": [
       "[<matplotlib.lines.Line2D at 0x13b4b2d30>]"
      ]
     },
     "execution_count": 17,
     "metadata": {},
     "output_type": "execute_result"
    },
    {
     "data": {
      "image/png": "[encoded data removed]",
      "text/plain": [
       "<Figure size 432x288 with 1 Axes>"
      ]
     },
     "metadata": {
      "needs_background": "light"
     },
     "output_type": "display_data"
    }
   ],
   "source": [
    "plt.plot(jokerall[\"MAP_P\"], jokerall[\"period\"], '.')\n",
    "ii1 = jokerall[\"significance\"] > 10 # arbitrary, somewhat did this in a DR3 paper\n",
    "ii2 = jokerall[\"unimodal\"] # quality cut from Adrian's Joker tutorial; means there is a unimodal posterier\n",
    "ii = ii1 & ii2\n",
    "print(ii.sum(),\"systems at Gaia significance > 10 and joker unimodal\")\n",
    "plt.plot(jokerall[ii][\"MAP_P\"], jokerall[ii][\"period\"], 'x')\n",
    "plt.loglog()\n",
    "plt.xlabel(\"Period APOGEE [days?]\")\n",
    "plt.ylabel(\"Period Gaia [days?]\")\n",
    "xmin, xmax = 1, 10000\n",
    "plt.xlim(xmin,xmax)\n",
    "plt.ylim(xmin,xmax)\n",
    "plt.plot([xmin,xmax],[xmin,xmax],'r-', lw=1)"
   ]
  },
  {
   "cell_type": "code",
   "execution_count": 18,
   "id": "8badfc35",
   "metadata": {},
   "outputs": [
    {
     "data": {
      "text/plain": [
       "[<matplotlib.lines.Line2D at 0x13fb74a00>]"
      ]
     },
     "execution_count": 18,
     "metadata": {},
     "output_type": "execute_result"
    },
    {
     "data": {
      "image/png": "[encoded data removed]",
      "text/plain": [
       "<Figure size 432x288 with 1 Axes>"
      ]
     },
     "metadata": {
      "needs_background": "light"
     },
     "output_type": "display_data"
    }
   ],
   "source": [
    "jokerall[\"perioddiff\"] = jokerall[\"period\"] - jokerall[\"MAP_P\"]\n",
    "plt.plot(jokerall[\"perioddiff\"], jokerall[\"period_error\"], '.')\n",
    "plt.plot(jokerall[\"perioddiff\"][ii], jokerall[\"period_error\"][ii], 'x')\n"
   ]
  },
  {
   "cell_type": "code",
   "execution_count": null,
   "id": "a5b3e569",
   "metadata": {},
   "outputs": [],
   "source": []
  }
 ],
 "metadata": {
  "kernelspec": {
   "display_name": "Python 3 (ipykernel)",
   "language": "python",
   "name": "python3"
  },
  "language_info": {
   "codemirror_mode": {
    "name": "ipython",
    "version": 3
   },
   "file_extension": ".py",
   "mimetype": "text/x-python",
   "name": "python",
   "nbconvert_exporter": "python",
   "pygments_lexer": "ipython3",
   "version": "3.9.12"
  }
 },
 "nbformat": 4,
 "nbformat_minor": 5
}
